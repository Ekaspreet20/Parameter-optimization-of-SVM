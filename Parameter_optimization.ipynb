{
 "cells": [
  {
   "cell_type": "code",
   "execution_count": 2,
   "metadata": {},
   "outputs": [],
   "source": [
    "import pandas as pd \n",
    "\n",
    "read_file = pd.read_csv (r\"C:\\Users\\ekasp\\Downloads\\nursery.txt\")\n",
    "read_file.to_csv (r\"C:\\Users\\ekasp\\Downloads\\nursery.csv\", index=None)"
   ]
  },
  {
   "cell_type": "code",
   "execution_count": 3,
   "metadata": {},
   "outputs": [],
   "source": [
    "df = pd.read_csv(r\"C:\\Users\\ekasp\\Downloads\\nursery.csv\")\n",
    "df.columns = ['parents','has_nurs','form','children','housing','finance','social','health','target'] \n"
   ]
  },
  {
   "cell_type": "code",
   "execution_count": 4,
   "metadata": {},
   "outputs": [],
   "source": [
    "import numpy as np \n",
    "from sklearn.svm import SVC\n",
    "from sklearn.model_selection import train_test_split\n",
    "from sklearn.metrics import accuracy_score\n",
    "import matplotlib.pyplot as plt"
   ]
  },
  {
   "cell_type": "code",
   "execution_count": 5,
   "metadata": {},
   "outputs": [
    {
     "data": {
      "text/plain": [
       "parents     0\n",
       "has_nurs    0\n",
       "form        0\n",
       "children    0\n",
       "housing     0\n",
       "finance     0\n",
       "social      0\n",
       "health      0\n",
       "target      0\n",
       "dtype: int64"
      ]
     },
     "execution_count": 5,
     "metadata": {},
     "output_type": "execute_result"
    }
   ],
   "source": [
    "df. isnull(). sum()\n"
   ]
  },
  {
   "cell_type": "code",
   "execution_count": 6,
   "metadata": {},
   "outputs": [
    {
     "data": {
      "text/plain": [
       "(12959, 9)"
      ]
     },
     "execution_count": 6,
     "metadata": {},
     "output_type": "execute_result"
    }
   ],
   "source": [
    "df.shape"
   ]
  },
  {
   "cell_type": "code",
   "execution_count": 7,
   "metadata": {},
   "outputs": [
    {
     "data": {
      "text/plain": [
       "parents     object\n",
       "has_nurs    object\n",
       "form        object\n",
       "children    object\n",
       "housing     object\n",
       "finance     object\n",
       "social      object\n",
       "health      object\n",
       "target      object\n",
       "dtype: object"
      ]
     },
     "execution_count": 7,
     "metadata": {},
     "output_type": "execute_result"
    }
   ],
   "source": [
    "df.dtypes"
   ]
  },
  {
   "cell_type": "code",
   "execution_count": 8,
   "metadata": {},
   "outputs": [
    {
     "data": {
      "text/html": [
       "<div>\n",
       "<style scoped>\n",
       "    .dataframe tbody tr th:only-of-type {\n",
       "        vertical-align: middle;\n",
       "    }\n",
       "\n",
       "    .dataframe tbody tr th {\n",
       "        vertical-align: top;\n",
       "    }\n",
       "\n",
       "    .dataframe thead th {\n",
       "        text-align: right;\n",
       "    }\n",
       "</style>\n",
       "<table border=\"1\" class=\"dataframe\">\n",
       "  <thead>\n",
       "    <tr style=\"text-align: right;\">\n",
       "      <th></th>\n",
       "      <th>parents</th>\n",
       "      <th>has_nurs</th>\n",
       "      <th>form</th>\n",
       "      <th>children</th>\n",
       "      <th>housing</th>\n",
       "      <th>finance</th>\n",
       "      <th>social</th>\n",
       "      <th>health</th>\n",
       "      <th>target</th>\n",
       "    </tr>\n",
       "  </thead>\n",
       "  <tbody>\n",
       "    <tr>\n",
       "      <th>0</th>\n",
       "      <td>usual</td>\n",
       "      <td>proper</td>\n",
       "      <td>complete</td>\n",
       "      <td>1</td>\n",
       "      <td>convenient</td>\n",
       "      <td>convenient</td>\n",
       "      <td>nonprob</td>\n",
       "      <td>priority</td>\n",
       "      <td>priority</td>\n",
       "    </tr>\n",
       "    <tr>\n",
       "      <th>1</th>\n",
       "      <td>usual</td>\n",
       "      <td>proper</td>\n",
       "      <td>complete</td>\n",
       "      <td>1</td>\n",
       "      <td>convenient</td>\n",
       "      <td>convenient</td>\n",
       "      <td>nonprob</td>\n",
       "      <td>not_recom</td>\n",
       "      <td>not_recom</td>\n",
       "    </tr>\n",
       "    <tr>\n",
       "      <th>2</th>\n",
       "      <td>usual</td>\n",
       "      <td>proper</td>\n",
       "      <td>complete</td>\n",
       "      <td>1</td>\n",
       "      <td>convenient</td>\n",
       "      <td>convenient</td>\n",
       "      <td>slightly_prob</td>\n",
       "      <td>recommended</td>\n",
       "      <td>recommend</td>\n",
       "    </tr>\n",
       "    <tr>\n",
       "      <th>3</th>\n",
       "      <td>usual</td>\n",
       "      <td>proper</td>\n",
       "      <td>complete</td>\n",
       "      <td>1</td>\n",
       "      <td>convenient</td>\n",
       "      <td>convenient</td>\n",
       "      <td>slightly_prob</td>\n",
       "      <td>priority</td>\n",
       "      <td>priority</td>\n",
       "    </tr>\n",
       "    <tr>\n",
       "      <th>4</th>\n",
       "      <td>usual</td>\n",
       "      <td>proper</td>\n",
       "      <td>complete</td>\n",
       "      <td>1</td>\n",
       "      <td>convenient</td>\n",
       "      <td>convenient</td>\n",
       "      <td>slightly_prob</td>\n",
       "      <td>not_recom</td>\n",
       "      <td>not_recom</td>\n",
       "    </tr>\n",
       "  </tbody>\n",
       "</table>\n",
       "</div>"
      ],
      "text/plain": [
       "  parents has_nurs      form children     housing     finance         social  \\\n",
       "0   usual   proper  complete        1  convenient  convenient        nonprob   \n",
       "1   usual   proper  complete        1  convenient  convenient        nonprob   \n",
       "2   usual   proper  complete        1  convenient  convenient  slightly_prob   \n",
       "3   usual   proper  complete        1  convenient  convenient  slightly_prob   \n",
       "4   usual   proper  complete        1  convenient  convenient  slightly_prob   \n",
       "\n",
       "        health     target  \n",
       "0     priority   priority  \n",
       "1    not_recom  not_recom  \n",
       "2  recommended  recommend  \n",
       "3     priority   priority  \n",
       "4    not_recom  not_recom  "
      ]
     },
     "execution_count": 8,
     "metadata": {},
     "output_type": "execute_result"
    }
   ],
   "source": [
    "df.head()"
   ]
  },
  {
   "cell_type": "code",
   "execution_count": 9,
   "metadata": {},
   "outputs": [
    {
     "data": {
      "text/html": [
       "<div>\n",
       "<style scoped>\n",
       "    .dataframe tbody tr th:only-of-type {\n",
       "        vertical-align: middle;\n",
       "    }\n",
       "\n",
       "    .dataframe tbody tr th {\n",
       "        vertical-align: top;\n",
       "    }\n",
       "\n",
       "    .dataframe thead th {\n",
       "        text-align: right;\n",
       "    }\n",
       "</style>\n",
       "<table border=\"1\" class=\"dataframe\">\n",
       "  <thead>\n",
       "    <tr style=\"text-align: right;\">\n",
       "      <th></th>\n",
       "      <th>parents</th>\n",
       "      <th>has_nurs</th>\n",
       "      <th>form</th>\n",
       "      <th>children</th>\n",
       "      <th>housing</th>\n",
       "      <th>finance</th>\n",
       "      <th>social</th>\n",
       "      <th>health</th>\n",
       "      <th>target</th>\n",
       "    </tr>\n",
       "  </thead>\n",
       "  <tbody>\n",
       "    <tr>\n",
       "      <th>12954</th>\n",
       "      <td>0</td>\n",
       "      <td>4</td>\n",
       "      <td>2</td>\n",
       "      <td>more</td>\n",
       "      <td>1</td>\n",
       "      <td>inconv</td>\n",
       "      <td>slightly_prob</td>\n",
       "      <td>priority</td>\n",
       "      <td>spec_prior</td>\n",
       "    </tr>\n",
       "    <tr>\n",
       "      <th>12955</th>\n",
       "      <td>0</td>\n",
       "      <td>4</td>\n",
       "      <td>2</td>\n",
       "      <td>more</td>\n",
       "      <td>1</td>\n",
       "      <td>inconv</td>\n",
       "      <td>slightly_prob</td>\n",
       "      <td>not_recom</td>\n",
       "      <td>not_recom</td>\n",
       "    </tr>\n",
       "    <tr>\n",
       "      <th>12956</th>\n",
       "      <td>0</td>\n",
       "      <td>4</td>\n",
       "      <td>2</td>\n",
       "      <td>more</td>\n",
       "      <td>1</td>\n",
       "      <td>inconv</td>\n",
       "      <td>problematic</td>\n",
       "      <td>recommended</td>\n",
       "      <td>spec_prior</td>\n",
       "    </tr>\n",
       "    <tr>\n",
       "      <th>12957</th>\n",
       "      <td>0</td>\n",
       "      <td>4</td>\n",
       "      <td>2</td>\n",
       "      <td>more</td>\n",
       "      <td>1</td>\n",
       "      <td>inconv</td>\n",
       "      <td>problematic</td>\n",
       "      <td>priority</td>\n",
       "      <td>spec_prior</td>\n",
       "    </tr>\n",
       "    <tr>\n",
       "      <th>12958</th>\n",
       "      <td>0</td>\n",
       "      <td>4</td>\n",
       "      <td>2</td>\n",
       "      <td>more</td>\n",
       "      <td>1</td>\n",
       "      <td>inconv</td>\n",
       "      <td>problematic</td>\n",
       "      <td>not_recom</td>\n",
       "      <td>not_recom</td>\n",
       "    </tr>\n",
       "  </tbody>\n",
       "</table>\n",
       "</div>"
      ],
      "text/plain": [
       "       parents  has_nurs  form children  housing finance         social  \\\n",
       "12954        0         4     2     more        1  inconv  slightly_prob   \n",
       "12955        0         4     2     more        1  inconv  slightly_prob   \n",
       "12956        0         4     2     more        1  inconv    problematic   \n",
       "12957        0         4     2     more        1  inconv    problematic   \n",
       "12958        0         4     2     more        1  inconv    problematic   \n",
       "\n",
       "            health      target  \n",
       "12954     priority  spec_prior  \n",
       "12955    not_recom   not_recom  \n",
       "12956  recommended  spec_prior  \n",
       "12957     priority  spec_prior  \n",
       "12958    not_recom   not_recom  "
      ]
     },
     "execution_count": 9,
     "metadata": {},
     "output_type": "execute_result"
    }
   ],
   "source": [
    "from sklearn.preprocessing import LabelEncoder\n",
    "\n",
    "#parents     usual(2), pretentious(1), great_pret(0).\n",
    "#has_nurs:    proper(3), less_proper(2), improper(1), critical(0), very_crit(4).\n",
    "#form:        complete(0), completed(1), incomplete(3), foster(2).\n",
    "#housing:     convenient(0), critical(1),less_conv(2),.\n",
    "\n",
    "label_encoder = LabelEncoder()\n",
    "df['parents'] = label_encoder.fit_transform(df['parents'])\n",
    "df['has_nurs'] = label_encoder.fit_transform(df['has_nurs'])\n",
    "df['form'] = label_encoder.fit_transform(df['form'])\n",
    "df['housing'] = label_encoder.fit_transform(df['housing'])\n",
    "\n",
    "# Print sample of dataset\n",
    "df.tail()"
   ]
  },
  {
   "cell_type": "code",
   "execution_count": 10,
   "metadata": {},
   "outputs": [
    {
     "data": {
      "text/html": [
       "<div>\n",
       "<style scoped>\n",
       "    .dataframe tbody tr th:only-of-type {\n",
       "        vertical-align: middle;\n",
       "    }\n",
       "\n",
       "    .dataframe tbody tr th {\n",
       "        vertical-align: top;\n",
       "    }\n",
       "\n",
       "    .dataframe thead th {\n",
       "        text-align: right;\n",
       "    }\n",
       "</style>\n",
       "<table border=\"1\" class=\"dataframe\">\n",
       "  <thead>\n",
       "    <tr style=\"text-align: right;\">\n",
       "      <th></th>\n",
       "      <th>parents</th>\n",
       "      <th>has_nurs</th>\n",
       "      <th>form</th>\n",
       "      <th>children</th>\n",
       "      <th>housing</th>\n",
       "      <th>finance</th>\n",
       "      <th>social</th>\n",
       "      <th>health</th>\n",
       "      <th>target</th>\n",
       "    </tr>\n",
       "  </thead>\n",
       "  <tbody>\n",
       "    <tr>\n",
       "      <th>12954</th>\n",
       "      <td>0</td>\n",
       "      <td>4</td>\n",
       "      <td>2</td>\n",
       "      <td>5</td>\n",
       "      <td>1</td>\n",
       "      <td>1</td>\n",
       "      <td>2</td>\n",
       "      <td>1</td>\n",
       "      <td>3</td>\n",
       "    </tr>\n",
       "    <tr>\n",
       "      <th>12955</th>\n",
       "      <td>0</td>\n",
       "      <td>4</td>\n",
       "      <td>2</td>\n",
       "      <td>5</td>\n",
       "      <td>1</td>\n",
       "      <td>1</td>\n",
       "      <td>2</td>\n",
       "      <td>0</td>\n",
       "      <td>0</td>\n",
       "    </tr>\n",
       "    <tr>\n",
       "      <th>12956</th>\n",
       "      <td>0</td>\n",
       "      <td>4</td>\n",
       "      <td>2</td>\n",
       "      <td>5</td>\n",
       "      <td>1</td>\n",
       "      <td>1</td>\n",
       "      <td>1</td>\n",
       "      <td>2</td>\n",
       "      <td>3</td>\n",
       "    </tr>\n",
       "    <tr>\n",
       "      <th>12957</th>\n",
       "      <td>0</td>\n",
       "      <td>4</td>\n",
       "      <td>2</td>\n",
       "      <td>5</td>\n",
       "      <td>1</td>\n",
       "      <td>1</td>\n",
       "      <td>1</td>\n",
       "      <td>1</td>\n",
       "      <td>3</td>\n",
       "    </tr>\n",
       "    <tr>\n",
       "      <th>12958</th>\n",
       "      <td>0</td>\n",
       "      <td>4</td>\n",
       "      <td>2</td>\n",
       "      <td>5</td>\n",
       "      <td>1</td>\n",
       "      <td>1</td>\n",
       "      <td>1</td>\n",
       "      <td>0</td>\n",
       "      <td>0</td>\n",
       "    </tr>\n",
       "  </tbody>\n",
       "</table>\n",
       "</div>"
      ],
      "text/plain": [
       "       parents  has_nurs  form children  housing  finance  social  health  \\\n",
       "12954        0         4     2        5        1        1       2       1   \n",
       "12955        0         4     2        5        1        1       2       0   \n",
       "12956        0         4     2        5        1        1       1       2   \n",
       "12957        0         4     2        5        1        1       1       1   \n",
       "12958        0         4     2        5        1        1       1       0   \n",
       "\n",
       "       target  \n",
       "12954       3  \n",
       "12955       0  \n",
       "12956       3  \n",
       "12957       3  \n",
       "12958       0  "
      ]
     },
     "execution_count": 10,
     "metadata": {},
     "output_type": "execute_result"
    }
   ],
   "source": [
    "#finance:     convenient(0), inconv(1).\n",
    "#social:      nonprob(0), slightly_prob(2), problematic(1).\n",
    "#health:      recommended(2), priority(0), not_recom(1).\n",
    "#target: not_recom(1), recommend(2), very_recom(4), priority(0), spec_prior(3)\n",
    "\n",
    "df['finance'] = label_encoder.fit_transform(df['finance'])\n",
    "df['social'] = label_encoder.fit_transform(df['social'])\n",
    "df['health'] = label_encoder.fit_transform(df['health'])\n",
    "df['target'] = label_encoder.fit_transform(df['target'])\n",
    "df['children']=df['children'].replace('more',5)\n",
    "df.tail()"
   ]
  },
  {
   "cell_type": "code",
   "execution_count": 11,
   "metadata": {},
   "outputs": [],
   "source": [
    "from random import sample\n",
    "\n",
    "def sample(df):\n",
    "    s=df.sample(5000)\n",
    "    y=s.target\n",
    "    X=s.drop('target',axis = 1) \n",
    "    return X,y   \n"
   ]
  },
  {
   "cell_type": "code",
   "execution_count": 12,
   "metadata": {},
   "outputs": [],
   "source": [
    "X1,y1=sample(df)\n",
    "X2,y2=sample(df)\n",
    "X3,y3=sample(df)\n",
    "X4,y4=sample(df)\n",
    "X5,y5=sample(df)\n",
    "X6,y6=sample(df)\n",
    "X7,y7=sample(df)\n",
    "X8,y8=sample(df)\n",
    "X9,y9=sample(df)\n",
    "X10,y10=sample(df)"
   ]
  },
  {
   "cell_type": "code",
   "execution_count": 13,
   "metadata": {},
   "outputs": [],
   "source": [
    "bestAccuracy=0\n",
    "bestKernel=\"\"\n",
    "bestC=0\n",
    "bestGamma=0\n",
    "iteration=200\n",
    "kernelList=['linear', 'poly', 'rbf', 'sigmoid']"
   ]
  },
  {
   "cell_type": "code",
   "execution_count": 14,
   "metadata": {},
   "outputs": [],
   "source": [
    "from sklearn.svm import SVC\n",
    "\n",
    "def fitness(k,c,g,X,y):\n",
    "    X_train,X_test,y_train,y_test=train_test_split(X,y,test_size=0.30,random_state=20)\n",
    "    model=SVC(kernel = k, C = c,gamma=g).fit(X_train,y_train)\n",
    "    y_pred = model.predict(X_test)  \n",
    "    accuracy=accuracy_score(y_test,y_pred)*100\n",
    "    return accuracy\n",
    "    \n"
   ]
  },
  {
   "cell_type": "markdown",
   "metadata": {},
   "source": [
    "FOR SAMPLE 1"
   ]
  },
  {
   "cell_type": "code",
   "execution_count": 15,
   "metadata": {},
   "outputs": [],
   "source": [
    "for i in range(iteration):\n",
    "    k = np.random.choice(kernelList)\n",
    "    c = np.random.uniform()\n",
    "    g = np.random.uniform()\n",
    "    accuracy = fitness(k,c,g,X1,y1)\n",
    "\n",
    "    if accuracy > bestAccuracy:\n",
    "        bestKernel = k\n",
    "        bestC = c\n",
    "        bestGamma = g\n",
    "        best_accuracy = accuracy\n",
    "        "
   ]
  },
  {
   "cell_type": "code",
   "execution_count": 16,
   "metadata": {},
   "outputs": [],
   "source": [
    "bk1= bestKernel\n",
    "bc1=bestC \n",
    "bg1=bestGamma \n",
    "ba1=best_accuracy"
   ]
  },
  {
   "attachments": {},
   "cell_type": "markdown",
   "metadata": {},
   "source": [
    "SAMPLE2"
   ]
  },
  {
   "cell_type": "code",
   "execution_count": 17,
   "metadata": {},
   "outputs": [],
   "source": [
    "bestAccuracy=0\n",
    "bestKernel=\"\"\n",
    "bestC=0\n",
    "bestGamma=0\n",
    "\n",
    "for i in range(iteration):\n",
    "    k = np.random.choice(kernelList)\n",
    "    c = np.random.uniform()\n",
    "    g = np.random.uniform()\n",
    "    accuracy = fitness(k,c,g,X2,y2)\n",
    "\n",
    "    if accuracy > bestAccuracy:\n",
    "        bestKernel = k\n",
    "        bestC = c\n",
    "        bestGamma = g\n",
    "        best_accuracy = accuracy\n",
    "        "
   ]
  },
  {
   "cell_type": "code",
   "execution_count": 18,
   "metadata": {},
   "outputs": [],
   "source": [
    "bk2= bestKernel\n",
    "bc2=bestC \n",
    "bg2=bestGamma \n",
    "ba2=best_accuracy"
   ]
  },
  {
   "attachments": {},
   "cell_type": "markdown",
   "metadata": {},
   "source": [
    "SAMPLE3"
   ]
  },
  {
   "cell_type": "code",
   "execution_count": 19,
   "metadata": {},
   "outputs": [],
   "source": [
    "bestAccuracy=0\n",
    "bestKernel=\"\"\n",
    "bestC=0\n",
    "bestGamma=0\n",
    "\n",
    "for i in range(iteration):\n",
    "    k = np.random.choice(kernelList)\n",
    "    c = np.random.uniform()\n",
    "    g = np.random.uniform()\n",
    "    accuracy = fitness(k,c,g,X3,y3)\n",
    "\n",
    "    if accuracy > bestAccuracy:\n",
    "        bestKernel = k\n",
    "        bestC = c\n",
    "        bestGamma = g\n",
    "        best_accuracy = accuracy\n",
    "        "
   ]
  },
  {
   "cell_type": "code",
   "execution_count": 20,
   "metadata": {},
   "outputs": [],
   "source": [
    "bk3= bestKernel\n",
    "bc3=bestC \n",
    "bg3=bestGamma \n",
    "ba3=best_accuracy"
   ]
  },
  {
   "attachments": {},
   "cell_type": "markdown",
   "metadata": {},
   "source": [
    "SAMPLE 4"
   ]
  },
  {
   "cell_type": "code",
   "execution_count": 21,
   "metadata": {},
   "outputs": [],
   "source": [
    "bestAccuracy=0\n",
    "bestKernel=\"\"\n",
    "bestC=0\n",
    "bestGamma=0\n",
    "\n",
    "for i in range(iteration):\n",
    "    k = np.random.choice(kernelList)\n",
    "    c = np.random.uniform()\n",
    "    g = np.random.uniform()\n",
    "    accuracy = fitness(k,c,g,X4,y4)\n",
    "\n",
    "    if accuracy > bestAccuracy:\n",
    "        bestKernel = k\n",
    "        bestC = c\n",
    "        bestGamma = g\n",
    "        best_accuracy = accuracy\n",
    "        "
   ]
  },
  {
   "cell_type": "code",
   "execution_count": 22,
   "metadata": {},
   "outputs": [],
   "source": [
    "bk4= bestKernel\n",
    "bc4=bestC \n",
    "bg4=bestGamma \n",
    "ba4=best_accuracy"
   ]
  },
  {
   "attachments": {},
   "cell_type": "markdown",
   "metadata": {},
   "source": [
    "SAMPLE5"
   ]
  },
  {
   "cell_type": "code",
   "execution_count": 23,
   "metadata": {},
   "outputs": [],
   "source": [
    "bestAccuracy=0\n",
    "bestKernel=\"\"\n",
    "bestC=0\n",
    "bestGamma=0\n",
    "\n",
    "for i in range(iteration):\n",
    "    k = np.random.choice(kernelList)\n",
    "    c = np.random.uniform()\n",
    "    g = np.random.uniform()\n",
    "    accuracy = fitness(k,c,g,X5,y5)\n",
    "\n",
    "    if accuracy > bestAccuracy:\n",
    "        bestKernel = k\n",
    "        bestC = c\n",
    "        bestGamma = g\n",
    "        best_accuracy = accuracy\n",
    "        "
   ]
  },
  {
   "cell_type": "code",
   "execution_count": 24,
   "metadata": {},
   "outputs": [],
   "source": [
    "bk5= bestKernel\n",
    "bc5=bestC \n",
    "bg5=bestGamma \n",
    "ba5=best_accuracy"
   ]
  },
  {
   "attachments": {},
   "cell_type": "markdown",
   "metadata": {},
   "source": [
    "SAMPLE 6"
   ]
  },
  {
   "cell_type": "code",
   "execution_count": 25,
   "metadata": {},
   "outputs": [],
   "source": [
    "bestAccuracy=0\n",
    "bestKernel=\"\"\n",
    "bestC=0\n",
    "bestGamma=0\n",
    "\n",
    "for i in range(iteration):\n",
    "    k = np.random.choice(kernelList)\n",
    "    c = np.random.uniform()\n",
    "    g = np.random.uniform()\n",
    "    accuracy = fitness(k,c,g,X6,y6)\n",
    "\n",
    "    if accuracy > bestAccuracy:\n",
    "        bestKernel = k\n",
    "        bestC = c\n",
    "        bestGamma = g\n",
    "        best_accuracy = accuracy\n",
    "        "
   ]
  },
  {
   "cell_type": "code",
   "execution_count": 26,
   "metadata": {},
   "outputs": [],
   "source": [
    "bk6= bestKernel\n",
    "bc6=bestC \n",
    "bg6=bestGamma \n",
    "ba6=best_accuracy"
   ]
  },
  {
   "attachments": {},
   "cell_type": "markdown",
   "metadata": {},
   "source": [
    "SAMPLE7"
   ]
  },
  {
   "cell_type": "code",
   "execution_count": 27,
   "metadata": {},
   "outputs": [],
   "source": [
    "bestAccuracy=0\n",
    "bestKernel=\"\"\n",
    "bestC=0\n",
    "bestGamma=0\n",
    "\n",
    "for i in range(iteration):\n",
    "    k = np.random.choice(kernelList)\n",
    "    c = np.random.uniform()\n",
    "    g = np.random.uniform()\n",
    "    accuracy = fitness(k,c,g,X7,y7)\n",
    "\n",
    "    if accuracy > bestAccuracy:\n",
    "        bestKernel = k\n",
    "        bestC = c\n",
    "        bestGamma = g\n",
    "        best_accuracy = accuracy\n",
    "        "
   ]
  },
  {
   "cell_type": "code",
   "execution_count": 28,
   "metadata": {},
   "outputs": [],
   "source": [
    "bk7= bestKernel\n",
    "bc7=bestC \n",
    "bg7=bestGamma \n",
    "ba7=best_accuracy"
   ]
  },
  {
   "attachments": {},
   "cell_type": "markdown",
   "metadata": {},
   "source": [
    "SAMPLE8"
   ]
  },
  {
   "cell_type": "code",
   "execution_count": 29,
   "metadata": {},
   "outputs": [],
   "source": [
    "bestAccuracy=0\n",
    "bestKernel=\"\"\n",
    "bestC=0\n",
    "bestGamma=0\n",
    "\n",
    "for i in range(iteration):\n",
    "    k = np.random.choice(kernelList)\n",
    "    c = np.random.uniform()\n",
    "    g = np.random.uniform()\n",
    "    accuracy = fitness(k,c,g,X8,y8)\n",
    "\n",
    "    if accuracy > bestAccuracy:\n",
    "        bestKernel = k\n",
    "        bestC = c\n",
    "        bestGamma = g\n",
    "        best_accuracy = accuracy\n",
    "        "
   ]
  },
  {
   "cell_type": "code",
   "execution_count": 30,
   "metadata": {},
   "outputs": [],
   "source": [
    "bk8= bestKernel\n",
    "bc8=bestC \n",
    "bg8=bestGamma \n",
    "ba8=best_accuracy"
   ]
  },
  {
   "attachments": {},
   "cell_type": "markdown",
   "metadata": {},
   "source": [
    "SAMPLE9"
   ]
  },
  {
   "cell_type": "code",
   "execution_count": 31,
   "metadata": {},
   "outputs": [],
   "source": [
    "bestAccuracy=0\n",
    "bestKernel=\"\"\n",
    "bestC=0\n",
    "bestGamma=0\n",
    "\n",
    "for i in range(iteration):\n",
    "    k = np.random.choice(kernelList)\n",
    "    c = np.random.uniform()\n",
    "    g = np.random.uniform()\n",
    "    accuracy = fitness(k,c,g,X9,y9)\n",
    "\n",
    "    if accuracy > bestAccuracy:\n",
    "        bestKernel = k\n",
    "        bestC = c\n",
    "        bestGamma = g\n",
    "        best_accuracy = accuracy\n",
    "        "
   ]
  },
  {
   "cell_type": "code",
   "execution_count": 32,
   "metadata": {},
   "outputs": [],
   "source": [
    "bk9= bestKernel\n",
    "bc9=bestC \n",
    "bg9=bestGamma \n",
    "ba9=best_accuracy"
   ]
  },
  {
   "attachments": {},
   "cell_type": "markdown",
   "metadata": {},
   "source": [
    "SAMPLE10"
   ]
  },
  {
   "cell_type": "code",
   "execution_count": 33,
   "metadata": {},
   "outputs": [],
   "source": [
    "bestAccuracy=0\n",
    "bestKernel=\"\"\n",
    "bestC=0\n",
    "bestGamma=0\n",
    "\n",
    "for i in range(iteration):\n",
    "    k = np.random.choice(kernelList)\n",
    "    c = np.random.uniform()\n",
    "    g = np.random.uniform()\n",
    "    accuracy = fitness(k,c,g,X10,y10)\n",
    "\n",
    "    if accuracy > bestAccuracy:\n",
    "        bestKernel = k\n",
    "        bestC = c\n",
    "        bestGamma = g\n",
    "        best_accuracy = accuracy\n",
    "        "
   ]
  },
  {
   "cell_type": "code",
   "execution_count": 34,
   "metadata": {},
   "outputs": [],
   "source": [
    "bk10= bestKernel\n",
    "bc10=bestC \n",
    "bg10=bestGamma \n",
    "ba10=best_accuracy"
   ]
  },
  {
   "attachments": {},
   "cell_type": "markdown",
   "metadata": {},
   "source": [
    "TABLE "
   ]
  },
  {
   "cell_type": "code",
   "execution_count": 35,
   "metadata": {},
   "outputs": [],
   "source": [
    "BK = [bk1,bk2,bk3,bk4,bk5, bk6,bk7, bk8,bk9,bk10]\n",
    "BC = [bc1,bc2,bc3,bc4,bc5,bc6,bc7,bc8,bc9,bc10]\n",
    "BG = [bg1,bg2,bg3,bg4,bg5,bg6,bg7,bg8, bg9,bg10]\n",
    "BA = [ba1,ba2,ba3,ba4,ba5,ba6,ba7,ba8,ba9,ba10]"
   ]
  },
  {
   "cell_type": "code",
   "execution_count": 36,
   "metadata": {},
   "outputs": [],
   "source": [
    "sno=['Sample1','Sample2','Sample3','Sample4','Sample5','Sample6','Sample7','Sample8','Sample9','Sample10']"
   ]
  },
  {
   "cell_type": "code",
   "execution_count": 37,
   "metadata": {},
   "outputs": [
    {
     "data": {
      "text/html": [
       "<div>\n",
       "<style scoped>\n",
       "    .dataframe tbody tr th:only-of-type {\n",
       "        vertical-align: middle;\n",
       "    }\n",
       "\n",
       "    .dataframe tbody tr th {\n",
       "        vertical-align: top;\n",
       "    }\n",
       "\n",
       "    .dataframe thead th {\n",
       "        text-align: right;\n",
       "    }\n",
       "</style>\n",
       "<table border=\"1\" class=\"dataframe\">\n",
       "  <thead>\n",
       "    <tr style=\"text-align: right;\">\n",
       "      <th></th>\n",
       "      <th>Sample</th>\n",
       "      <th>BestKernel</th>\n",
       "      <th>BestC</th>\n",
       "      <th>BestGamma</th>\n",
       "      <th>BestAccuracy</th>\n",
       "    </tr>\n",
       "  </thead>\n",
       "  <tbody>\n",
       "    <tr>\n",
       "      <th>0</th>\n",
       "      <td>Sample1</td>\n",
       "      <td>sigmoid</td>\n",
       "      <td>0.511355</td>\n",
       "      <td>0.971917</td>\n",
       "      <td>34.200000</td>\n",
       "    </tr>\n",
       "    <tr>\n",
       "      <th>1</th>\n",
       "      <td>Sample2</td>\n",
       "      <td>linear</td>\n",
       "      <td>0.741046</td>\n",
       "      <td>0.314473</td>\n",
       "      <td>76.800000</td>\n",
       "    </tr>\n",
       "    <tr>\n",
       "      <th>2</th>\n",
       "      <td>Sample3</td>\n",
       "      <td>linear</td>\n",
       "      <td>0.093230</td>\n",
       "      <td>0.957874</td>\n",
       "      <td>76.533333</td>\n",
       "    </tr>\n",
       "    <tr>\n",
       "      <th>3</th>\n",
       "      <td>Sample4</td>\n",
       "      <td>linear</td>\n",
       "      <td>0.643944</td>\n",
       "      <td>0.263573</td>\n",
       "      <td>76.600000</td>\n",
       "    </tr>\n",
       "    <tr>\n",
       "      <th>4</th>\n",
       "      <td>Sample5</td>\n",
       "      <td>sigmoid</td>\n",
       "      <td>0.750585</td>\n",
       "      <td>0.267954</td>\n",
       "      <td>33.933333</td>\n",
       "    </tr>\n",
       "    <tr>\n",
       "      <th>5</th>\n",
       "      <td>Sample6</td>\n",
       "      <td>poly</td>\n",
       "      <td>0.822907</td>\n",
       "      <td>0.837983</td>\n",
       "      <td>92.333333</td>\n",
       "    </tr>\n",
       "    <tr>\n",
       "      <th>6</th>\n",
       "      <td>Sample7</td>\n",
       "      <td>rbf</td>\n",
       "      <td>0.655777</td>\n",
       "      <td>0.387545</td>\n",
       "      <td>91.666667</td>\n",
       "    </tr>\n",
       "    <tr>\n",
       "      <th>7</th>\n",
       "      <td>Sample8</td>\n",
       "      <td>poly</td>\n",
       "      <td>0.702028</td>\n",
       "      <td>0.930481</td>\n",
       "      <td>92.333333</td>\n",
       "    </tr>\n",
       "    <tr>\n",
       "      <th>8</th>\n",
       "      <td>Sample9</td>\n",
       "      <td>linear</td>\n",
       "      <td>0.140435</td>\n",
       "      <td>0.879019</td>\n",
       "      <td>76.066667</td>\n",
       "    </tr>\n",
       "    <tr>\n",
       "      <th>9</th>\n",
       "      <td>Sample10</td>\n",
       "      <td>rbf</td>\n",
       "      <td>0.169322</td>\n",
       "      <td>0.899345</td>\n",
       "      <td>89.933333</td>\n",
       "    </tr>\n",
       "  </tbody>\n",
       "</table>\n",
       "</div>"
      ],
      "text/plain": [
       "     Sample BestKernel     BestC  BestGamma  BestAccuracy\n",
       "0   Sample1    sigmoid  0.511355   0.971917     34.200000\n",
       "1   Sample2     linear  0.741046   0.314473     76.800000\n",
       "2   Sample3     linear  0.093230   0.957874     76.533333\n",
       "3   Sample4     linear  0.643944   0.263573     76.600000\n",
       "4   Sample5    sigmoid  0.750585   0.267954     33.933333\n",
       "5   Sample6       poly  0.822907   0.837983     92.333333\n",
       "6   Sample7        rbf  0.655777   0.387545     91.666667\n",
       "7   Sample8       poly  0.702028   0.930481     92.333333\n",
       "8   Sample9     linear  0.140435   0.879019     76.066667\n",
       "9  Sample10        rbf  0.169322   0.899345     89.933333"
      ]
     },
     "execution_count": 37,
     "metadata": {},
     "output_type": "execute_result"
    }
   ],
   "source": [
    "data = {'Sample':sno,'BestKernel': BK, 'BestC': BC, 'BestGamma': BG,'BestAccuracy': BA}\n",
    "data = pd.DataFrame(data)\n",
    "data"
   ]
  },
  {
   "cell_type": "code",
   "execution_count": 38,
   "metadata": {},
   "outputs": [
    {
     "data": {
      "text/plain": [
       "92.33333333333333"
      ]
     },
     "execution_count": 38,
     "metadata": {},
     "output_type": "execute_result"
    }
   ],
   "source": [
    "max(data.BestAccuracy)"
   ]
  },
  {
   "attachments": {},
   "cell_type": "markdown",
   "metadata": {},
   "source": [
    "Sample 8 and 6 gives best Accuracy."
   ]
  },
  {
   "attachments": {},
   "cell_type": "markdown",
   "metadata": {},
   "source": [
    "CONVERGENCE OF SAMPLE 6"
   ]
  },
  {
   "cell_type": "code",
   "execution_count": 73,
   "metadata": {},
   "outputs": [],
   "source": [
    "values=[]\n",
    "acc=[]\n",
    "iteration=200   \n",
    "    \n",
    "bestAccuracy=0\n",
    "bestKernel=\"\"\n",
    "bestC=0\n",
    "bestGamma=0\n",
    "\n",
    "for i in range(iteration):\n",
    "    k = 'poly'\n",
    "    c = np.random.uniform()\n",
    "    g = np.random.uniform()\n",
    "    accuracy = fitness(k,c,g,X6,y6)\n",
    "\n",
    "    if accuracy > bestAccuracy:\n",
    "        best_accuracy = accuracy\n",
    "        \n",
    "    values.append(i)\n",
    "    acc.append(best_accuracy)   \n",
    "    "
   ]
  },
  {
   "cell_type": "code",
   "execution_count": 75,
   "metadata": {},
   "outputs": [],
   "source": [
    "acc.sort()"
   ]
  },
  {
   "cell_type": "code",
   "execution_count": 77,
   "metadata": {},
   "outputs": [
    {
     "data": {
      "image/png": "[encoded data removed]",
      "text/plain": [
       "<Figure size 432x288 with 1 Axes>"
      ]
     },
     "metadata": {
      "needs_background": "light"
     },
     "output_type": "display_data"
    }
   ],
   "source": [
    "fig, ax = plt.subplots()\n",
    "\n",
    "ax.plot(values, acc)\n",
    "\n",
    "ax.set_xlabel('Iteration')\n",
    "ax.set_ylabel('Accuracy')\n",
    "\n",
    "# Set the title of the plot\n",
    "ax.set_title('Convergence Plot')\n",
    "\n",
    "# Show the plot\n",
    "plt.show()"
   ]
  }
 ],
 "metadata": {
  "kernelspec": {
   "display_name": "Python 3",
   "language": "python",
   "name": "python3"
  },
  "language_info": {
   "codemirror_mode": {
    "name": "ipython",
    "version": 3
   },
   "file_extension": ".py",
   "mimetype": "text/x-python",
   "name": "python",
   "nbconvert_exporter": "python",
   "pygments_lexer": "ipython3",
   "version": "3.10.2"
  },
  "orig_nbformat": 4,
  "vscode": {
   "interpreter": {
    "hash": "7ec044e8ff643357d7a8bcf5df711256ba0d7dda7c0007fb25b823abc5f121fc"
   }
  }
 },
 "nbformat": 4,
 "nbformat_minor": 2
}
